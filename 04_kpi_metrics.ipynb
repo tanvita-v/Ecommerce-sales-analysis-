{
 "cells": [
  {
   "cell_type": "markdown",
   "id": "a2abf481",
   "metadata": {},
   "source": [
    "# 04 – KPI Metrics (for Power BI)"
   ]
  },
  {
   "cell_type": "code",
   "execution_count": null,
   "id": "979fd2d1",
   "metadata": {},
   "outputs": [],
   "source": [
    "import pandas as pd, numpy as np\n",
    "import matplotlib.pyplot as plt\n",
    "import plotly.express as px\n",
    "from pathlib import Path\n",
    "DATA_RAW = Path('../data/ecommerce_raw.csv')\n",
    "DATA_CLEAN = Path('../data/ecommerce_clean.csv')\n",
    "EXPORTS = Path('../data/exports')\n",
    "EXPORTS.mkdir(parents=True, exist_ok=True)\n"
   ]
  },
  {
   "cell_type": "code",
   "execution_count": null,
   "id": "53e9b200",
   "metadata": {},
   "outputs": [],
   "source": [
    "df = pd.read_csv(DATA_CLEAN, parse_dates=['Order Date','Ship Date','Week'])\n",
    "kpis = {\n",
    "    'total_revenue': float(df['Sales'].sum()),\n",
    "    'total_profit': float(df['Profit'].sum()),\n",
    "    'orders': int(df.shape[0]),\n",
    "    'avg_order_value': float(df['Sales'].mean()),\n",
    "    'profit_margin_pct': float((df['Profit'].sum()/df['Sales'].sum())*100.0) if df['Sales'].sum() else 0.0,\n",
    "    'unique_customers': int(df['Customer ID'].nunique()),\n",
    "    'unique_products': int(df['Product ID'].nunique()),\n",
    "    'period_start': str(df['Order Date'].min().date()),\n",
    "    'period_end': str(df['Order Date'].max().date()),\n",
    "}\n",
    "pd.DataFrame([kpis]).to_csv(EXPORTS / 'kpi_summary.csv', index=False)\n",
    "print('Saved ->', EXPORTS / 'kpi_summary.csv')\n"
   ]
  },
  {
   "cell_type": "markdown",
   "id": "48392ffd",
   "metadata": {},
   "source": [
    "# Fact & Dims\n",
    "fact = df[['Order ID','Order Date','Customer ID','Product ID','Quantity','Unit Price','Discount','Sales','Profit','Region','Segment','Year','Month','YearMonth','Week']].copy()\n",
    "fact.to_csv(EXPORTS / 'fact_sales.csv', index=False)\n",
    "dim_cust = (df.groupby(['Customer ID','Customer Name','Segment'], as_index=False).size().rename(columns={'size':'Orders'}))\n",
    "dim_cust.to_csv(EXPORTS / 'dim_customers.csv', index=False)\n",
    "dim_prod = (df.groupby(['Product ID','Product Name','Category','Sub-Category'], as_index=False).size().rename(columns={'size':'Lines'}))\n",
    "dim_prod.to_csv(EXPORTS / 'dim_products.csv', index=False)\n",
    "print('Saved -> fact_sales.csv, dim_customers.csv, dim_products.csv')\n"
   ]
  }
 ],
 "metadata": {},
 "nbformat": 4,
 "nbformat_minor": 5
}