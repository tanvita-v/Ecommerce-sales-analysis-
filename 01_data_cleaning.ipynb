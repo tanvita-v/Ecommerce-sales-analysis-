{
 "cells": [
  {
   "cell_type": "markdown",
   "id": "73c7bce2",
   "metadata": {},
   "source": [
    "# 01 – Data Cleaning"
   ]
  },
  {
   "cell_type": "code",
   "execution_count": null,
   "id": "477976bd",
   "metadata": {},
   "outputs": [],
   "source": [
    "import pandas as pd, numpy as np\n",
    "import matplotlib.pyplot as plt\n",
    "import plotly.express as px\n",
    "from pathlib import Path\n",
    "DATA_RAW = Path('../data/ecommerce_raw.csv')\n",
    "DATA_CLEAN = Path('../data/ecommerce_clean.csv')\n",
    "EXPORTS = Path('../data/exports')\n",
    "EXPORTS.mkdir(parents=True, exist_ok=True)\n"
   ]
  },
  {
   "cell_type": "markdown",
   "id": "76961616",
   "metadata": {},
   "source": [
    "# Load raw\n",
    "df = pd.read_csv(DATA_RAW)\n",
    "print('Raw rows:', len(df))\n",
    "# Parse dates\n",
    "for c in ['Order Date','Ship Date']:\n",
    "    if c in df.columns:\n",
    "        df[c] = pd.to_datetime(df[c], errors='coerce')\n",
    "# Drop null dates, dedupe\n",
    "df = df.dropna(subset=['Order Date']).drop_duplicates()\n",
    "# Derive time fields\n",
    "df['Year'] = df['Order Date'].dt.year\n",
    "df['Month'] = df['Order Date'].dt.month\n",
    "df['YearMonth'] = df['Order Date'].dt.to_period('M').astype(str)\n",
    "df['Week'] = df['Order Date'].dt.to_period('W').apply(lambda r: r.start_time)\n",
    "df['Profit Margin'] = np.where(df['Sales']>0, df['Profit']/df['Sales'], np.nan)\n",
    "df.to_csv(DATA_CLEAN, index=False)\n",
    "print('Saved clean ->', DATA_CLEAN)\n",
    "df.head()\n"
   ]
  }
 ],
 "metadata": {},
 "nbformat": 4,
 "nbformat_minor": 5
}