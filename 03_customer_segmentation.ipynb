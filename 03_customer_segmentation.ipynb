{
 "cells": [
  {
   "cell_type": "markdown",
   "id": "975155ba",
   "metadata": {},
   "source": [
    "# 03 – Customer Segmentation (RFM)"
   ]
  },
  {
   "cell_type": "code",
   "execution_count": null,
   "id": "26b7ecb1",
   "metadata": {},
   "outputs": [],
   "source": [
    "import pandas as pd, numpy as np\n",
    "import matplotlib.pyplot as plt\n",
    "import plotly.express as px\n",
    "from pathlib import Path\n",
    "DATA_RAW = Path('../data/ecommerce_raw.csv')\n",
    "DATA_CLEAN = Path('../data/ecommerce_clean.csv')\n",
    "EXPORTS = Path('../data/exports')\n",
    "EXPORTS.mkdir(parents=True, exist_ok=True)\n"
   ]
  },
  {
   "cell_type": "code",
   "execution_count": null,
   "id": "f8691abb",
   "metadata": {},
   "outputs": [],
   "source": [
    "df = pd.read_csv(DATA_CLEAN, parse_dates=['Order Date'])\n",
    "max_date = df['Order Date'].max()\n",
    "rfm = (df.groupby('Customer ID')\n",
    "         .agg(Recency=('Order Date', lambda s: (max_date - s.max()).days),\n",
    "              Frequency=('Order ID','nunique'),\n",
    "              Monetary=('Sales','sum'))\n",
    "         .reset_index())\n"
   ]
  },
  {
   "cell_type": "markdown",
   "id": "85b56396",
   "metadata": {},
   "source": [
    "# Scores\n",
    "rfm['R_Score'] = pd.qcut(rfm['Recency'], 5, labels=[5,4,3,2,1]).astype(int)\n",
    "rfm['F_Score'] = pd.qcut(rfm['Frequency'].rank(method='first'), 5, labels=[1,2,3,4,5]).astype(int)\n",
    "rfm['M_Score'] = pd.qcut(rfm['Monetary'].rank(method='first'), 5, labels=[1,2,3,4,5]).astype(int)\n",
    "rfm['RFM_Score'] = rfm[['R_Score','F_Score','M_Score']].sum(axis=1)\n",
    "rfm.to_csv(EXPORTS / 'rfm_scores.csv', index=False)\n",
    "print('Saved ->', EXPORTS / 'rfm_scores.csv')\n",
    "rfm.head()\n"
   ]
  }
 ],
 "metadata": {},
 "nbformat": 4,
 "nbformat_minor": 5
}