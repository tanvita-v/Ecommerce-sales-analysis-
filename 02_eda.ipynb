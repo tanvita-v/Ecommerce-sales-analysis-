{
 "cells": [
  {
   "cell_type": "markdown",
   "id": "b7184cce",
   "metadata": {},
   "source": [
    "# 02 – EDA"
   ]
  },
  {
   "cell_type": "code",
   "execution_count": null,
   "id": "5d73a44d",
   "metadata": {},
   "outputs": [],
   "source": [
    "import pandas as pd, numpy as np\n",
    "import matplotlib.pyplot as plt\n",
    "import plotly.express as px\n",
    "from pathlib import Path\n",
    "DATA_RAW = Path('../data/ecommerce_raw.csv')\n",
    "DATA_CLEAN = Path('../data/ecommerce_clean.csv')\n",
    "EXPORTS = Path('../data/exports')\n",
    "EXPORTS.mkdir(parents=True, exist_ok=True)\n"
   ]
  },
  {
   "cell_type": "code",
   "execution_count": null,
   "id": "c83e7798",
   "metadata": {},
   "outputs": [],
   "source": [
    "df = pd.read_csv(DATA_CLEAN, parse_dates=['Order Date','Ship Date','Week'])\n",
    "print('Clean rows:', len(df))\n"
   ]
  },
  {
   "cell_type": "markdown",
   "id": "d121425b",
   "metadata": {},
   "source": [
    "# Distributions\n",
    "for c in [x for x in ['Sales','Profit','Quantity','Discount'] if x in df.columns]:\n",
    "    ax = df[c].plot(kind='hist', bins=40, alpha=0.7, title=f'Distribution of {c}')\n",
    "    plt.xlabel(c); plt.tight_layout(); plt.show()\n"
   ]
  },
  {
   "cell_type": "markdown",
   "id": "88849396",
   "metadata": {},
   "source": [
    "# Monthly trend\n",
    "df['YearMonth'] = df['Order Date'].dt.to_period('M').astype(str)\n",
    "m = df.groupby('YearMonth', as_index=False)['Sales'].sum()\n",
    "px.line(m, x='YearMonth', y='Sales', title='Monthly Sales Trend').show()\n"
   ]
  },
  {
   "cell_type": "markdown",
   "id": "d294fc11",
   "metadata": {},
   "source": [
    "# Category / Segment\n",
    "if 'Category' in df.columns:\n",
    "    cat = df.groupby('Category', as_index=False)['Sales'].sum().sort_values('Sales', ascending=False)\n",
    "    px.bar(cat, x='Category', y='Sales', title='Sales by Category').show()\n",
    "if 'Segment' in df.columns:\n",
    "    seg = df.groupby('Segment', as_index=False)['Sales'].sum()\n",
    "    px.bar(seg, x='Segment', y='Sales', title='Sales by Segment').show()\n"
   ]
  }
 ],
 "metadata": {},
 "nbformat": 4,
 "nbformat_minor": 5
}